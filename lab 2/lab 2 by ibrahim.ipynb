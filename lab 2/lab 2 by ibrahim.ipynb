{
 "cells": [
  {
   "cell_type": "code",
   "execution_count": null,
   "metadata": {},
   "outputs": [],
   "source": [
    "# MAKE SURE EVERYTHING IS INSIDE A FUNCTION, in the lab only execute/comment the functions calls\n",
    "\n",
    "\n",
    "# 1 - Fill an array of 5 elements from the user, Sort it in descending and ascending orders then display the output.\n",
    "# 2 - Write a function that accepts two arguments (length, start) to generate an array of a specific length filled with integer numbers increased by one from start.\n",
    "# 3 - Write a program which repeatedly reads numbers until the user\n",
    "# \t    enters “done”. Once “done” is entered, print out the total, count, and average of the numbers.\n",
    "# \t    If the user enters anything other than a number, detect their\n",
    "#             mistake, print an error message and skip to the next number.\n",
    "\n",
    "# Bonus:\n",
    "# 4 - discuss why dictionary key can only be an immutable type, why the set only accepts immutable types, how the set makes sure it has non-duplicates"
   ]
  },
  {
   "cell_type": "code",
   "execution_count": 10,
   "metadata": {},
   "outputs": [
    {
     "name": "stdout",
     "output_type": "stream",
     "text": [
      "you entered => [2, 6, 8, 4, 2]\n"
     ]
    }
   ],
   "source": [
    "#q1 ---------------------- :)\n",
    "\n",
    "def sory_arr():\n",
    "    arr1 = []\n",
    "    for i in range(5):\n",
    "        num = int(input(f\"pleas enter number {i+1} : \"))\n",
    "        arr1.append(num)\n",
    "\n",
    "    print(f\"you entered => {arr1}\")\n",
    "sory_arr()"
   ]
  },
  {
   "cell_type": "code",
   "execution_count": 9,
   "metadata": {},
   "outputs": [
    {
     "name": "stdout",
     "output_type": "stream",
     "text": [
      "you entered => [5, 6, 2, 6, 5]\n",
      "the ascending order =>  [2, 5, 5, 6, 6]\n",
      "the descnding order =>  [6, 6, 5, 5, 2]\n"
     ]
    }
   ],
   "source": [
    "#q1 ---------------------- :)\n",
    "\n",
    "def sory_arr():\n",
    "    arr1 = []\n",
    "    for i in range(5):\n",
    "        num = int(input(f\"pleas enter number {i+1} : \"))\n",
    "        arr1.append(num)\n",
    "\n",
    "    print(f\"you entered => {arr1}\")\n",
    "    arr2 = sorted(arr1)\n",
    "    print(f\"the ascending order =>  {arr2}\")\n",
    "    arr3 = sorted(arr1,reverse=True)\n",
    "    print(f\"the descnding order =>  {arr3}\")\n",
    "    \n",
    "\n",
    "sory_arr()"
   ]
  },
  {
   "cell_type": "code",
   "execution_count": 22,
   "metadata": {},
   "outputs": [
    {
     "name": "stdout",
     "output_type": "stream",
     "text": [
      "your arr => [5, 6, 7, 8, 9, 10, 11, 12, 13, 14, 15, 16, 17, 18, 19, 20]\n"
     ]
    }
   ],
   "source": [
    "#q2 ---------------------- :)\n",
    "\n",
    "def new_arr(start,lenrht):\n",
    "    arr5 = []\n",
    "    for i in range(lenrht +1):\n",
    "        arr5.append(start + i)\n",
    "    print(f\"your arr => {arr5}\")\n",
    "new_arr(5,15)"
   ]
  },
  {
   "cell_type": "code",
   "execution_count": 30,
   "metadata": {},
   "outputs": [
    {
     "name": "stdout",
     "output_type": "stream",
     "text": [
      "**************************************************\n",
      "welcom to my code :) u will wnter a set of numbers\n",
      "and i will rwturn there total count and avreage :)\n",
      "**************************************************\n",
      "**************************************************\n",
      "You Entered => [5.0, 6.0, 2.0, 5.0, 8.0, 6.0, 5.0, 2.0, 1.0, 4.0, 5.0, 6.0, 8.0]\n",
      "**************************************************\n",
      "the total number => 63.0\n",
      "**************************************************\n",
      "the Avrage => 4.846153846153846\n",
      "**************************************************\n"
     ]
    }
   ],
   "source": [
    "#q3 ---------------------- :)\n",
    "\n",
    "def count_nums():\n",
    "    count = 0\n",
    "    arr6 = []\n",
    "    print(\"*\"*50)\n",
    "    print(\"welcom to my code :) u will wnter a set of numbers\\nand i will rwturn there total count and avreage :)\")\n",
    "    print(\"*\"*50)\n",
    "    print(\"*\"*50)\n",
    "    while True:\n",
    "        user_num = input(\"please enter your num: \")\n",
    "    \n",
    "        if user_num.lower() == \"done\":\n",
    "            \n",
    "            if count > 0:\n",
    "                print(f\"You Entered => {arr6}\")\n",
    "                print(\"*\"*50)\n",
    "                print(f\"the total number => {sum(arr6)}\")\n",
    "                print(\"*\"*50)\n",
    "                print(f\"the Avrage => {sum(arr6)/count}\")\n",
    "                print(\"*\"*50)\n",
    "                print(\"thank u for using this code\")\n",
    "            else:\n",
    "                print(\"u did not add any numbers :(\")\n",
    "            \n",
    "            break\n",
    "        else:\n",
    "            try:\n",
    "                num6 = float(user_num)\n",
    "                arr6.append(num6)\n",
    "                count +=1\n",
    "            except :\n",
    "                print(\"Invalid input. Please enter a number\")\n",
    "                continue\n",
    "\n",
    "count_nums()\n"
   ]
  },
  {
   "cell_type": "code",
   "execution_count": null,
   "metadata": {},
   "outputs": [],
   "source": []
  },
  {
   "cell_type": "code",
   "execution_count": null,
   "metadata": {},
   "outputs": [],
   "source": []
  }
 ],
 "metadata": {
  "kernelspec": {
   "display_name": "data_science",
   "language": "python",
   "name": "python3"
  },
  "language_info": {
   "codemirror_mode": {
    "name": "ipython",
    "version": 3
   },
   "file_extension": ".py",
   "mimetype": "text/x-python",
   "name": "python",
   "nbconvert_exporter": "python",
   "pygments_lexer": "ipython3",
   "version": "3.11.9"
  }
 },
 "nbformat": 4,
 "nbformat_minor": 2
}
