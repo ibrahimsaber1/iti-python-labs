{
 "cells": [
  {
   "cell_type": "markdown",
   "metadata": {},
   "source": [
    "## Python lab 4 by ibrahim Saber :)"
   ]
  },
  {
   "cell_type": "code",
   "execution_count": 20,
   "metadata": {},
   "outputs": [],
   "source": [
    "# Q1\n",
    "\n",
    "class Person:\n",
    "    def __init__(self, name , age):\n",
    "        self.name = name\n",
    "        self.age = age\n",
    "\n",
    "    def say_hello(self):\n",
    "        print(f\"hello i am {self.name}\")\n",
    "\n",
    "    def say_age(self):\n",
    "        print(f\"my age {self.age}\")\n",
    "\n",
    "newperson = Person(\"ibrahim\" , 24)\n",
    "\n",
    "# class SuperHero: that inherits from person\n",
    "\n",
    "class SuperHero(Person):\n",
    "    def __init__(self, name , age ,secret_identity , nemesis):\n",
    "        super().__init__( name , age )\n",
    "        self.secret_identity = secret_identity\n",
    "        self.nemesis = nemesis\n",
    "\n",
    "    def say_hello(self):\n",
    "        print(f\"Hello, I am a superhero named {self.name}.\")\n",
    "\n",
    "    def reveal_secret_identity(self):\n",
    "        print(f\"My secret identity is {self.secret_identity}.\")\n",
    "\n",
    "    def old_say_age(self):\n",
    "        super().say_age()\n",
    "\n",
    "    def say_age(self):\n",
    "        print(\"its dosent matter how old i am i will kill the joker :)\")\n",
    "\n",
    "p2 = SuperHero(\"hema\",25,\"BatMan\",\"El Joker\")"
   ]
  },
  {
   "cell_type": "code",
   "execution_count": 21,
   "metadata": {},
   "outputs": [
    {
     "name": "stdout",
     "output_type": "stream",
     "text": [
      "hello i am ibrahim\n",
      "My secret identity is BatMan.\n",
      "its dosent matter how old i am i will kill the joker :)\n",
      "my age 25\n"
     ]
    }
   ],
   "source": [
    "newperson.age\n",
    "newperson.say_hello()\n",
    "p2.reveal_secret_identity()\n",
    "p2.age\n",
    "p2.nemesis\n",
    "p2.say_age()\n",
    "p2.old_say_age()"
   ]
  },
  {
   "cell_type": "code",
   "execution_count": 26,
   "metadata": {},
   "outputs": [],
   "source": [
    "my = [1,2,3,4,5,6]"
   ]
  },
  {
   "cell_type": "code",
   "execution_count": 27,
   "metadata": {},
   "outputs": [
    {
     "data": {
      "text/plain": [
       "[2, 3, 4, 5, 6]"
      ]
     },
     "execution_count": 27,
     "metadata": {},
     "output_type": "execute_result"
    }
   ],
   "source": [
    "my.pop(0)\n",
    "my"
   ]
  },
  {
   "cell_type": "code",
   "execution_count": 23,
   "metadata": {},
   "outputs": [],
   "source": [
    "#q2\n",
    "class Queue:\n",
    "    def __init__(self):\n",
    "        self.items = []\n",
    "\n",
    "    def enqueue(self,num1):\n",
    "        self.items.append(num1)\n",
    "\n",
    "    def dequeue(self):\n",
    "        if self.is_empty():\n",
    "            print(\"bro u trying to pop a value from an empty queue :)\")\n",
    "            return None\n",
    "        else:\n",
    "            return self.items.pop(0)\n",
    "\n",
    "    def is_empty(self):\n",
    "        return len(self.items) == 0\n",
    "    \n",
    "    def show_Queue(self):   # lo 3ayez t print el arr bs :)\n",
    "        print(self.items)\n",
    "\n",
    "\n"
   ]
  },
  {
   "cell_type": "code",
   "execution_count": 24,
   "metadata": {},
   "outputs": [
    {
     "name": "stdout",
     "output_type": "stream",
     "text": [
      "[1, 2]\n"
     ]
    }
   ],
   "source": [
    "q1 = Queue()\n",
    "q1.enqueue(1)\n",
    "q1.enqueue(2)\n",
    "q1.show_Queue()\n",
    "\n"
   ]
  },
  {
   "cell_type": "code",
   "execution_count": 25,
   "metadata": {},
   "outputs": [
    {
     "name": "stdout",
     "output_type": "stream",
     "text": [
      "1\n",
      "2\n",
      "bro u trying to pop a value from an empty queue :)\n",
      "None\n"
     ]
    }
   ],
   "source": [
    "print(q1.dequeue())\n",
    "print(q1.dequeue())\n",
    "print(q1.dequeue())\n"
   ]
  },
  {
   "cell_type": "code",
   "execution_count": null,
   "metadata": {},
   "outputs": [],
   "source": []
  },
  {
   "cell_type": "code",
   "execution_count": 41,
   "metadata": {},
   "outputs": [],
   "source": [
    "# q3:\n",
    "\n",
    "class QueueOutOfRangeException(Exception):\n",
    "    pass\n",
    "\n",
    "class Queue_q3:\n",
    "    _queues = {}\n",
    "\n",
    "    def __init__(self, name, size):\n",
    "        self.name = name\n",
    "        self.size = size\n",
    "        self.items = []\n",
    "        Queue_q3._queues[name] = self\n",
    "\n",
    "    def enqueue(self, value):\n",
    "        if len(self.items) >= self.size:\n",
    "            raise QueueOutOfRangeException(f\"Queue '{self.name}' is full. you Can not add any other items.\")\n",
    "        else:\n",
    "            self.items.append(value)\n",
    "\n",
    "    def dequeue(self):\n",
    "        if self.is_empty():\n",
    "            print(f\"Warning: bro u trying to pop a value from an empty queue '{self.name}' :).\")\n",
    "            return None\n",
    "        return self.items.pop(0)\n",
    "\n",
    "    def is_empty(self):\n",
    "        return len(self.items) == 0\n",
    "\n",
    "    @classmethod\n",
    "    def get_queue_by_name(cls, name):\n",
    "        return cls._queues.get(name)\n"
   ]
  },
  {
   "cell_type": "code",
   "execution_count": 43,
   "metadata": {},
   "outputs": [],
   "source": [
    "q1 = Queue_q3('Queue1', 3)\n",
    "q2 = Queue_q3('Queue2', 2)"
   ]
  },
  {
   "cell_type": "code",
   "execution_count": 44,
   "metadata": {},
   "outputs": [],
   "source": [
    "q1.enqueue(10)\n",
    "q1.enqueue(20)\n",
    "q1.enqueue(30)"
   ]
  },
  {
   "cell_type": "code",
   "execution_count": 45,
   "metadata": {},
   "outputs": [
    {
     "name": "stdout",
     "output_type": "stream",
     "text": [
      "Queue 'Queue1' is full. you Can not add any other items.\n"
     ]
    }
   ],
   "source": [
    "try:\n",
    "    q1.enqueue(40)  \n",
    "except QueueOutOfRangeException as e:\n",
    "    print(e)"
   ]
  },
  {
   "cell_type": "code",
   "execution_count": 46,
   "metadata": {},
   "outputs": [
    {
     "name": "stdout",
     "output_type": "stream",
     "text": [
      "10\n",
      "20\n",
      "30\n",
      "Warning: bro u trying to pop a value from an empty queue 'Queue1' :).\n",
      "None\n"
     ]
    }
   ],
   "source": [
    "print(q1.dequeue())\n",
    "print(q1.dequeue())  \n",
    "print(q1.dequeue())  \n",
    "print(q1.dequeue())  \n"
   ]
  },
  {
   "cell_type": "code",
   "execution_count": 49,
   "metadata": {},
   "outputs": [
    {
     "name": "stdout",
     "output_type": "stream",
     "text": [
      "17\n",
      "18\n"
     ]
    }
   ],
   "source": [
    "q88 = Queue_q3.get_queue_by_name('Queue2')\n",
    "q88.enqueue(17)\n",
    "q88.enqueue(18)\n",
    "print(q88.dequeue()) \n",
    "print(q88.dequeue()) "
   ]
  }
 ],
 "metadata": {
  "kernelspec": {
   "display_name": "data_science",
   "language": "python",
   "name": "python3"
  },
  "language_info": {
   "codemirror_mode": {
    "name": "ipython",
    "version": 3
   },
   "file_extension": ".py",
   "mimetype": "text/x-python",
   "name": "python",
   "nbconvert_exporter": "python",
   "pygments_lexer": "ipython3",
   "version": "3.11.9"
  }
 },
 "nbformat": 4,
 "nbformat_minor": 2
}
