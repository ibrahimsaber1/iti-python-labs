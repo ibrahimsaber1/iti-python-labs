{
 "cells": [
  {
   "cell_type": "markdown",
   "metadata": {},
   "source": [
    "## lab 5 by Ibrahim Saber"
   ]
  },
  {
   "cell_type": "code",
   "execution_count": 79,
   "metadata": {},
   "outputs": [],
   "source": [
    "# q1 :-------------------------------:)\n",
    "\n",
    "from datetime import date as d\n",
    "\n",
    "class Person:\n",
    "    def __init__(self , name , birthYear):\n",
    "        self.__name = name\n",
    "        self.__birthYear = birthYear\n",
    "\n",
    "    def sayHello(self):\n",
    "        print(f\"hello everyone my name is {self.__name}\")\n",
    "\n",
    "    @property\n",
    "    def name(self):\n",
    "        return self.__name\n",
    "    \n",
    "    @name.setter\n",
    "    def name(self, value):\n",
    "        if type(value) == str and value.rstrip():\n",
    "            self.__name = value\n",
    "        else:\n",
    "            raise ValueError(\"bro name should be a non empty string...........:)\")\n",
    "    @property    \n",
    "    def age(self):\n",
    "        return  d.today().year -self.__birthYear\n",
    "\n",
    "    @property\n",
    "    def birthYear(self):\n",
    "        return self.__birthYear\n",
    "\n",
    "    @birthYear.setter\n",
    "    def birthYear(self, value):\n",
    "        current_year = d.today().year\n",
    "        if type(value) == int and 0 < value <= current_year:\n",
    "            self.__birthYear = value\n",
    "        else:\n",
    "            raise ValueError(\"Birth year must be a positive integer and less than or equal to the current year.\")\n",
    "\n"
   ]
  },
  {
   "cell_type": "code",
   "execution_count": 80,
   "metadata": {},
   "outputs": [],
   "source": [
    "p2 = Person(\"sisi\", 2000)"
   ]
  },
  {
   "cell_type": "code",
   "execution_count": 83,
   "metadata": {},
   "outputs": [
    {
     "data": {
      "text/plain": [
       "24"
      ]
     },
     "execution_count": 83,
     "metadata": {},
     "output_type": "execute_result"
    }
   ],
   "source": [
    "p2.age"
   ]
  },
  {
   "cell_type": "code",
   "execution_count": 84,
   "metadata": {},
   "outputs": [
    {
     "name": "stdout",
     "output_type": "stream",
     "text": [
      "suze\n"
     ]
    }
   ],
   "source": [
    "p2.name = \"suze\"\n",
    "\n",
    "print(p2.name)"
   ]
  },
  {
   "cell_type": "code",
   "execution_count": 85,
   "metadata": {},
   "outputs": [
    {
     "name": "stdout",
     "output_type": "stream",
     "text": [
      "hello everyone my name is suze\n"
     ]
    }
   ],
   "source": [
    "p2.sayHello()"
   ]
  },
  {
   "cell_type": "code",
   "execution_count": 87,
   "metadata": {},
   "outputs": [
    {
     "name": "stdout",
     "output_type": "stream",
     "text": [
      "hello everyone my name is iBRAHIM\n",
      "**********************************************************************\n",
      "iBRAHIM\n",
      "24\n"
     ]
    }
   ],
   "source": [
    "P1 = Person(\"iBRAHIM\", 2000)\n",
    "P1.sayHello()\n",
    "print(\"*\" * 70)\n",
    "print(P1.name)\n",
    "print(P1.age)"
   ]
  },
  {
   "cell_type": "code",
   "execution_count": 88,
   "metadata": {},
   "outputs": [
    {
     "name": "stdout",
     "output_type": "stream",
     "text": [
      "mAHMOUD !!\n"
     ]
    }
   ],
   "source": [
    "P1.name = \"mAHMOUD !!\"\n",
    "\n",
    "print(P1.name)"
   ]
  },
  {
   "cell_type": "code",
   "execution_count": 89,
   "metadata": {},
   "outputs": [
    {
     "name": "stdout",
     "output_type": "stream",
     "text": [
      "20\n"
     ]
    }
   ],
   "source": [
    "P1.birthYear = 2004\n",
    "\n",
    "print(P1.age)"
   ]
  },
  {
   "cell_type": "code",
   "execution_count": 90,
   "metadata": {},
   "outputs": [
    {
     "name": "stdout",
     "output_type": "stream",
     "text": [
      "Child (Generation 0): blood type BO\n",
      "    Parent (Generation 1): blood type BA\n",
      "        grandparent (Generation 2): blood type OB\n",
      "        grandparent (Generation 2): blood type AA\n",
      "    Parent (Generation 1): blood type AO\n",
      "        grandparent (Generation 2): blood type AB\n",
      "        grandparent (Generation 2): blood type AO\n"
     ]
    }
   ],
   "source": [
    "# q2: ................... ............. ................... :)\n",
    "\n",
    "import random\n",
    "from typing import Optional, List\n",
    "\n",
    "NUMBER_OF_GENERATIONS = 3\n",
    "INDENT_LENGTH = 4\n",
    "\n",
    "class Person:\n",
    "    def __init__(self, parents: Optional[List['Person']], alleles: List[str]):\n",
    "        # list of 2 elements of type Person\n",
    "        self.parents = parents\n",
    "        # list of 2 elements of type str\n",
    "        self.alleles = alleles\n",
    "\n",
    "def main():\n",
    "    # create a new family with NUMBER_OF_GENERATIONS generations\n",
    "    person = create_family(NUMBER_OF_GENERATIONS)\n",
    "    \n",
    "    # print out the family tree of blood types recursively\n",
    "    print_family(person, 0)\n",
    "\n",
    "def create_family(generations: int) -> Person:\n",
    "    # Create a new person\n",
    "    if generations > 1:\n",
    "        # Recursively create parents\n",
    "        parent_1: Person = create_family(generations - 1)\n",
    "        parent_2: Person = create_family(generations - 1)\n",
    "        \n",
    "        # Set parents for the current person\n",
    "        parents = [parent_1, parent_2]\n",
    "        \n",
    "        # Randomly assign current person's alleles based on the alleles of their parents\n",
    "        allele_1 = random.choice(parent_1.alleles)\n",
    "        allele_2 = random.choice(parent_2.alleles)\n",
    "        alleles = [allele_1, allele_2]\n",
    "    else:\n",
    "        # Set parent pointers to None for the base generation\n",
    "        parents = None\n",
    "        \n",
    "        # Randomly assign alleles for the initial generation\n",
    "        allele_1 = get_random_allele()\n",
    "        allele_2 = get_random_allele()\n",
    "        alleles = [allele_1, allele_2]\n",
    "\n",
    "    # Return newly created person\n",
    "    return Person(parents, alleles)\n",
    "\n",
    "def print_family(person: Optional[Person], number_of_generations: int):\n",
    "    if not person:\n",
    "        return\n",
    "    print(f\"{' ' * number_of_generations * INDENT_LENGTH}\", end=\"\")\n",
    "    if number_of_generations == 0:\n",
    "        print(f\"Child (Generation {number_of_generations}): blood type {person.alleles[0]}{person.alleles[1]}\")\n",
    "    elif number_of_generations == 1:\n",
    "        print(f\"Parent (Generation {number_of_generations}): blood type {person.alleles[0]}{person.alleles[1]}\")\n",
    "    else:\n",
    "        for i in range(number_of_generations - 2):\n",
    "            print(\"great-\", end=\"\")\n",
    "        print(f\"grandparent (Generation {number_of_generations}): blood type {person.alleles[0]}{person.alleles[1]}\")\n",
    "    if person.parents:\n",
    "        print_family(person.parents[0], number_of_generations + 1)\n",
    "        print_family(person.parents[1], number_of_generations + 1)\n",
    "\n",
    "def get_random_allele() -> str:\n",
    "    return random.choice([\"A\", \"B\", \"O\"])\n",
    "\n",
    "if __name__ == \"__main__\":\n",
    "    main()\n",
    "\n",
    "\n",
    "\n",
    "\n"
   ]
  },
  {
   "cell_type": "code",
   "execution_count": 91,
   "metadata": {},
   "outputs": [],
   "source": [
    "def print_family(person: Optional[Person], number_of_generations: int):\n",
    "    if not person:\n",
    "        return\n",
    "    print(f\"{' ' * number_of_generations * INDENT_LENGTH}\", end=\"\")\n",
    "    if number_of_generations == 0:\n",
    "        print(f\"Child (Generation {number_of_generations}): blood type {person.alleles[0]}{person.alleles[1]}\")\n",
    "    elif number_of_generations == 1:\n",
    "        print(f\"Parent (Generation {number_of_generations}): blood type {person.alleles[0]}{person.alleles[1]}\")\n",
    "    else:\n",
    "        for i in range(number_of_generations - 2):\n",
    "            print(\"great-\", end=\"\")\n",
    "        print(f\"grandparent (Generation {number_of_generations}): blood type {person.alleles[0]}{person.alleles[1]}\")\n",
    "    if person.parents:\n",
    "        print_family(person.parents[0], number_of_generations + 1)\n",
    "        print_family(person.parents[1], number_of_generations + 1)\n"
   ]
  },
  {
   "cell_type": "code",
   "execution_count": null,
   "metadata": {},
   "outputs": [],
   "source": []
  }
 ],
 "metadata": {
  "kernelspec": {
   "display_name": "base",
   "language": "python",
   "name": "python3"
  },
  "language_info": {
   "codemirror_mode": {
    "name": "ipython",
    "version": 3
   },
   "file_extension": ".py",
   "mimetype": "text/x-python",
   "name": "python",
   "nbconvert_exporter": "python",
   "pygments_lexer": "ipython3",
   "version": "3.11.5"
  }
 },
 "nbformat": 4,
 "nbformat_minor": 2
}
