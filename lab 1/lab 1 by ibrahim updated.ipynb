{
 "cells": [
  {
   "cell_type": "code",
   "execution_count": 5,
   "metadata": {},
   "outputs": [
    {
     "name": "stdout",
     "output_type": "stream",
     "text": [
      "Hello words\n"
     ]
    }
   ],
   "source": [
    "#q1\n",
    "\n",
    "print(\"Hello words\")"
   ]
  },
  {
   "cell_type": "code",
   "execution_count": 12,
   "metadata": {},
   "outputs": [
    {
     "name": "stdout",
     "output_type": "stream",
     "text": [
      "you entered 101 and its = 5 in decimal\n"
     ]
    }
   ],
   "source": [
    "# q2 \n",
    "num1 = input(\"enter a binary number : \")\n",
    "num2 = int(num1 , 2)\n",
    "\n",
    "print(f\"you entered {num1} and its = {num2} in decimal\")"
   ]
  },
  {
   "cell_type": "code",
   "execution_count": 20,
   "metadata": {},
   "outputs": [
    {
     "name": "stdout",
     "output_type": "stream",
     "text": [
      "you entered 10001001 and its = 137 in decimal\n"
     ]
    }
   ],
   "source": [
    "# q2 \n",
    "num1 = input(\"enter a binary number : \")\n",
    "\n",
    "for num in num1:\n",
    "    if num not in ('0', '1'):\n",
    "        print(f\"you entered {num1} and its not binary please enter 0 or 1 only :)\")\n",
    "        break\n",
    "else:\n",
    "    num2 = int(num1 , 2)\n",
    "    print(f\"you entered {num1} and its = {num2} in decimal\")"
   ]
  },
  {
   "cell_type": "code",
   "execution_count": 2,
   "metadata": {},
   "outputs": [
    {
     "name": "stdout",
     "output_type": "stream",
     "text": [
      "buzz\n"
     ]
    }
   ],
   "source": [
    "# q3\n",
    "\n",
    "num3 = int(input(\"enter the number u want to check: \"))\n",
    "\n",
    "if num3 % 3 ==0 and num3 % 5 ==0:\n",
    "    print(\"FizzBuzz\")\n",
    "elif num3%3 == 0:\n",
    "    print(\"buzz\")\n",
    "elif num3%5 == 0 :\n",
    "    print(\"Fizz\")\n",
    "else:\n",
    "    print(\"the number is not divisible by 3 or 5 try another number :)\")\n",
    "\n"
   ]
  },
  {
   "cell_type": "code",
   "execution_count": 9,
   "metadata": {},
   "outputs": [
    {
     "name": "stdout",
     "output_type": "stream",
     "text": [
      "your radius = 5.0 \n",
      "The circle Area = 78.5 \n",
      "The circle circumference = 31.400000000000002\n"
     ]
    }
   ],
   "source": [
    "# q4\n",
    "num4 = float(input(\"enter the enter the radius: \"))\n",
    "\n",
    "pi = 3.14\n",
    "area = pi * (num4*num4)\n",
    "circumference = 2 * pi * num4\n",
    "\n",
    "if num4 > 0:\n",
    "    print(f\"your radius = {num4} \\nThe circle Area = {area} \\nThe circle circumference = {circumference}\")\n",
    "else:\n",
    "    print(\"The radius should be positive try a number bigger than zero :)\")\n"
   ]
  },
  {
   "cell_type": "code",
   "execution_count": 10,
   "metadata": {},
   "outputs": [
    {
     "name": "stdout",
     "output_type": "stream",
     "text": [
      "hi ali \n",
      "Your Email is : ali@gmail.com\n"
     ]
    }
   ],
   "source": [
    "# q5\n",
    "\n",
    "name = input(\"Please enter your name: \")\n",
    "if name.isalpha() and name.strip():\n",
    "    email = input(\"Please enter your email: \")  \n",
    "    print(f\"hi {name} \\nYour Email is : {email}\")\n",
    "else:\n",
    "    print(\"Please enter a valid name .\")\n",
    "\n"
   ]
  },
  {
   "cell_type": "code",
   "execution_count": 11,
   "metadata": {},
   "outputs": [
    {
     "name": "stdout",
     "output_type": "stream",
     "text": [
      "3\n"
     ]
    }
   ],
   "source": [
    "# q6\n",
    "\n",
    "x = input(\"enter your string: \")\n",
    "\n",
    "print(x.count(\"iti\"))"
   ]
  },
  {
   "cell_type": "code",
   "execution_count": null,
   "metadata": {},
   "outputs": [],
   "source": [
    "#if u want to take the letter u want to cout also from user :)\n",
    "\n",
    "x = input(\"enter your string: \")\n",
    "y = input(\"enter the word u want to count in the string: \")\n",
    "print(x.count(y))"
   ]
  },
  {
   "cell_type": "code",
   "execution_count": null,
   "metadata": {},
   "outputs": [],
   "source": []
  },
  {
   "cell_type": "code",
   "execution_count": 17,
   "metadata": {},
   "outputs": [
    {
     "name": "stdout",
     "output_type": "stream",
     "text": [
      "please enter 0 or 1 only\n"
     ]
    }
   ],
   "source": [
    "\n",
    "num1 = input(\"enter a binary number : \")\n",
    "for num in num1:\n",
    "    if num not in ('0', '1'):\n",
    "        print(\"please enter 0 or 1 only\")\n",
    "        break\n",
    "else:\n",
    "    num2 = int(num1 , 2)\n",
    "    print(f\"you entered {num1} and its = {num2} in decimal\")\n"
   ]
  },
  {
   "cell_type": "code",
   "execution_count": null,
   "metadata": {},
   "outputs": [],
   "source": []
  },
  {
   "cell_type": "code",
   "execution_count": null,
   "metadata": {},
   "outputs": [],
   "source": []
  }
 ],
 "metadata": {
  "kernelspec": {
   "display_name": "data_science",
   "language": "python",
   "name": "python3"
  },
  "language_info": {
   "codemirror_mode": {
    "name": "ipython",
    "version": 3
   },
   "file_extension": ".py",
   "mimetype": "text/x-python",
   "name": "python",
   "nbconvert_exporter": "python",
   "pygments_lexer": "ipython3",
   "version": "3.11.9"
  }
 },
 "nbformat": 4,
 "nbformat_minor": 2
}
