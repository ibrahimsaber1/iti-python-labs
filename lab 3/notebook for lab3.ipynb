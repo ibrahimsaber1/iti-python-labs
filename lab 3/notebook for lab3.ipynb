{
 "cells": [
  {
   "cell_type": "code",
   "execution_count": null,
   "metadata": {},
   "outputs": [],
   "source": []
  },
  {
   "cell_type": "code",
   "execution_count": 6,
   "metadata": {},
   "outputs": [
    {
     "data": {
      "text/plain": [
       "'kiwi'"
      ]
     },
     "execution_count": 6,
     "metadata": {},
     "output_type": "execute_result"
    }
   ],
   "source": [
    "# testing\n",
    "import random\n",
    "\n",
    "fruits = [\n",
    "  \"Apple\", \"Banana\", \"Orange\", \"Strawberry\", \"Grape\", \"Pineapple\", \"Mango\",\n",
    "  \"Blueberry\", \"Watermelon\", \"Kiwi\", \"Peach\", \"Cherry\", \"Pomegranate\",\n",
    "  \"Cantaloupe\", \"Papaya\", \"Blackberry\", \"Raspberry\", \"Lemon\", \"Lime\",\n",
    "  \"Coconut\", \"Grapefruit\", \"Plum\", \"Apricot\", \"Fig\", \"Guava\", \"Jackfruit\",\n",
    "  \"Lychee\", \"Mandarin\", \"Nectarine\", \"Passionfruit\", \"Pear\", \"Persimmon\",\n",
    "  \"Quince\", \"Tangerine\", \"Dragonfruit\", \"Durian\", \"Starfruit\", \"Mulberry\",\n",
    "  \"Honeydew\", \"Cranberry\", \"Date\", \"Elderberry\", \"Gooseberry\", \"Acai\",\n",
    "  \"Boysenberry\", \"Currant\", \"Jujube\", \"Longan\", \"Mangosteen\", \"Olive\",\n",
    "  \"Plantain\"]\n",
    "\n",
    "word = random.choice(fruits).lower()\n",
    "word\n"
   ]
  },
  {
   "cell_type": "code",
   "execution_count": 5,
   "metadata": {},
   "outputs": [
    {
     "name": "stdout",
     "output_type": "stream",
     "text": [
      "**********************************************************************\n",
      "Welcom to the Hang Man Game :)\n",
      "Guess the word! HINT: word is a name of a fruit\n",
      "**********************************************************************\n",
      "pear\n",
      "_ _ _ _  ==> | You have 6 chances to solve it |\n",
      "**********************************************************************\n"
     ]
    }
   ],
   "source": [
    "# testing\n",
    "word = random.choice(fruits).lower()\n",
    "chances = len(word) +2 \n",
    "guess_letters = list(\"_\" * len(word))\n",
    "guess_letters_str = \" \".join(guess_letters)\n",
    "\n",
    "count = 0\n",
    "\n",
    "print(\"*\"*70)\n",
    "print(\"Welcom to the Hang Man Game :)\")\n",
    "print(\"Guess the word! HINT: word is a name of a fruit\")\n",
    "print(\"*\"*70, end=\"\\n\")\n",
    "print(word)\n",
    "print(f\"{guess_letters_str}  ==> | You have {chances} chances to solve it |\")\n",
    "print(\"*\"*70)\n"
   ]
  },
  {
   "cell_type": "code",
   "execution_count": null,
   "metadata": {},
   "outputs": [],
   "source": [
    "\"\".join(guess_letters) == word"
   ]
  },
  {
   "cell_type": "code",
   "execution_count": null,
   "metadata": {},
   "outputs": [],
   "source": [
    "print(\" \".join(guess_letters),end=\"\")\n",
    "print(f\"  ==> | You have {chances - j} chances to solve it |\")\n",
    "print(\"*\"*70)\n",
    "\n",
    "print(f\"{' '.join(guess_letters)} ==> | You have {chances - j} chances to solve it |\\n{'*'*70}\")\n"
   ]
  },
  {
   "cell_type": "code",
   "execution_count": 2,
   "metadata": {},
   "outputs": [
    {
     "name": "stdout",
     "output_type": "stream",
     "text": [
      "**********************************************************************\n",
      "Welcom to the Hang Man Game :)\n",
      "Guess the word! HINT: word is a name of a fruit\n",
      "**********************************************************************\n",
      "_ _ _ _ _ _ _ _ _ _ _  ==> | You have 13 chances to solve it |\n",
      "**********************************************************************\n"
     ]
    },
    {
     "name": "stdout",
     "output_type": "stream",
     "text": [
      "please enter a letters only !!!\n",
      "_ _ _ _ _ _ _ _ _ _ _ ==> | You have 12 chances to solve it |\n",
      "**********************************************************************\n",
      "_ _ _ _ _ _ _ _ _ _ _ ==> | You have 11 chances to solve it |\n",
      "**********************************************************************\n",
      "_ _ _ _ _ _ _ _ _ _ _ ==> | You have 10 chances to solve it |\n",
      "**********************************************************************\n",
      "_ _ _ _ _ _ _ _ _ _ _ ==> | You have 9 chances to solve it |\n",
      "**********************************************************************\n",
      "_ _ _ _ _ _ _ _ _ _ _ ==> | You have 8 chances to solve it |\n",
      "**********************************************************************\n",
      "_ _ _ _ _ _ _ _ _ _ _ ==> | You have 7 chances to solve it |\n",
      "**********************************************************************\n",
      "_ _ _ _ _ _ _ _ _ _ _ ==> | You have 6 chances to solve it |\n",
      "**********************************************************************\n",
      "_ _ _ _ _ _ _ _ _ _ _ ==> | You have 5 chances to solve it |\n",
      "**********************************************************************\n",
      "_ _ _ _ _ _ _ _ _ _ _ ==> | You have 4 chances to solve it |\n",
      "**********************************************************************\n",
      "_ _ _ _ _ _ _ _ _ _ _ ==> | You have 3 chances to solve it |\n",
      "**********************************************************************\n",
      "please enter a single letter only !!!\n",
      "_ _ _ _ _ _ _ _ _ _ _ ==> | You have 2 chances to solve it |\n",
      "**********************************************************************\n",
      "_ _ _ _ _ _ _ _ _ _ _ ==> | You have 1 chances to solve it |\n",
      "**********************************************************************\n",
      "_ _ _ _ _ _ _ _ _ _ _ ==> | You have 0 chances to solve it |\n",
      "**********************************************************************\n",
      "You lost! Try again..\n",
      "The word was boysenberry\n",
      "Bye! Bye!\n"
     ]
    }
   ],
   "source": [
    "# hangman Game :)\n",
    "\n",
    "import random\n",
    "\n",
    "fruits = [\n",
    "  \"Apple\", \"Banana\", \"Orange\", \"Strawberry\", \"Grape\", \"Pineapple\", \"Mango\",\n",
    "  \"Blueberry\", \"Watermelon\", \"Kiwi\", \"Peach\", \"Cherry\", \"Pomegranate\",\n",
    "  \"Cantaloupe\", \"Papaya\", \"Blackberry\", \"Raspberry\", \"Lemon\", \"Lime\",\n",
    "  \"Coconut\", \"Grapefruit\", \"Plum\", \"Apricot\", \"Fig\", \"Guava\", \"Jackfruit\",\n",
    "  \"Lychee\", \"Mandarin\", \"Nectarine\", \"Passionfruit\", \"Pear\", \"Persimmon\",\n",
    "  \"Quince\", \"Tangerine\", \"Dragonfruit\", \"Durian\", \"Starfruit\", \"Mulberry\",\n",
    "  \"Honeydew\", \"Cranberry\", \"Date\", \"Elderberry\", \"Gooseberry\", \"Acai\",\n",
    "  \"Boysenberry\", \"Currant\", \"Jujube\", \"Longan\", \"Mangosteen\", \"Olive\",\n",
    "  \"Plantain\"]\n",
    "\n",
    "\n",
    "\n",
    "while True :\n",
    "    \n",
    "    word = random.choice(fruits).lower()\n",
    "    chances = len(word)+2 \n",
    "    guess_letters = list(\"_\" * len(word))\n",
    "    guess_letters_str = \" \".join(guess_letters)\n",
    "    count = 0\n",
    "\n",
    "    print(\"*\"*70)\n",
    "    print(\"Welcom to the Hang Man Game :)\")\n",
    "    print(\"Guess the word! HINT: word is a name of a fruit\")\n",
    "    print(\"*\"*70, end=\"\\n\")\n",
    "    # print(word) # ana 7atet el ward 3shan kont b test el code :)\n",
    "    print(f\"{guess_letters_str}  ==> | You have {chances } chances to solve it |\")\n",
    "    print(\"*\"*70)\n",
    "\n",
    "\n",
    "\n",
    "    for j in range(chances): \n",
    "        letter = input(\"Guess a single letter: \").lower()\n",
    "        count = count + 1\n",
    "\n",
    "        if not letter.isalpha():\n",
    "            print(\"please enter a letters only !!!\")\n",
    "            print(f\"{' '.join(guess_letters)} ==> | You have {chances - count} chances to solve it |\\n{'*'*70}\")\n",
    "            continue\n",
    "\n",
    "        if len(letter) > 1:\n",
    "            print(\"please enter a single letter only !!!\")\n",
    "            print(f\"{' '.join(guess_letters)} ==> | You have {chances - count} chances to solve it |\\n{'*'*70}\")\n",
    "            continue\n",
    "\n",
    "        if len(letter) == 0:\n",
    "            print(\"please enter at least a single letter !!!\")\n",
    "            print(f\"{' '.join(guess_letters)} ==> | You have {chances - count} chances to solve it |\\n{'*'*70}\")\n",
    "            continue\n",
    "\n",
    "        if letter in guess_letters:\n",
    "            print(\"you guess this letter already !!!\")\n",
    "            print(f\"{' '.join(guess_letters)} ==> | You have {chances - count} chances to solve it |\\n{'*'*70}\")\n",
    "            continue\n",
    "\n",
    "        for i in range(len(word)):\n",
    "            if word[i] == letter:\n",
    "                guess_letters[i] = letter\n",
    "        \n",
    "        print(f\"{' '.join(guess_letters)} ==> | You have {chances - count} chances to solve it |\\n{'*'*70}\")\n",
    "        if \"\".join(guess_letters) == word:\n",
    "            break\n",
    "\n",
    "    if \"\".join(guess_letters) != word:\n",
    "    # lose-case\n",
    "        print(f\"You lost! Try again..\\nThe word was {word}\")\n",
    "    else:\n",
    "    # win-case\n",
    "        print(f\"you guessed the correct word: {word}\\nin {count} chances\")\n",
    "\n",
    "    answer = input(\"want to play again? yes / no \").lower()\n",
    "    if answer == 'no' or answer == 'n':\n",
    "        print(\"Bye! Bye!\")\n",
    "        break\n",
    "    \n",
    "\n"
   ]
  },
  {
   "cell_type": "markdown",
   "metadata": {},
   "source": []
  },
  {
   "cell_type": "code",
   "execution_count": null,
   "metadata": {},
   "outputs": [],
   "source": []
  },
  {
   "cell_type": "code",
   "execution_count": null,
   "metadata": {},
   "outputs": [],
   "source": []
  },
  {
   "cell_type": "code",
   "execution_count": 1,
   "metadata": {},
   "outputs": [
    {
     "ename": "NameError",
     "evalue": "name 'dd' is not defined",
     "output_type": "error",
     "traceback": [
      "\u001b[1;31m---------------------------------------------------------------------------\u001b[0m",
      "\u001b[1;31mNameError\u001b[0m                                 Traceback (most recent call last)",
      "Cell \u001b[1;32mIn[1], line 1\u001b[0m\n\u001b[1;32m----> 1\u001b[0m dd\n",
      "\u001b[1;31mNameError\u001b[0m: name 'dd' is not defined"
     ]
    }
   ],
   "source": []
  },
  {
   "cell_type": "code",
   "execution_count": 2,
   "metadata": {},
   "outputs": [
    {
     "name": "stdout",
     "output_type": "stream",
     "text": [
      "hi dd\n"
     ]
    }
   ],
   "source": []
  },
  {
   "cell_type": "code",
   "execution_count": null,
   "metadata": {},
   "outputs": [],
   "source": []
  }
 ],
 "metadata": {
  "kernelspec": {
   "display_name": "data_science",
   "language": "python",
   "name": "python3"
  },
  "language_info": {
   "codemirror_mode": {
    "name": "ipython",
    "version": 3
   },
   "file_extension": ".py",
   "mimetype": "text/x-python",
   "name": "python",
   "nbconvert_exporter": "python",
   "pygments_lexer": "ipython3",
   "version": "3.11.9"
  }
 },
 "nbformat": 4,
 "nbformat_minor": 2
}
